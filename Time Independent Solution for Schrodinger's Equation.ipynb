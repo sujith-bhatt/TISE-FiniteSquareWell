{
 "cells": [
  {
   "cell_type": "markdown",
   "metadata": {},
   "source": [
    "# Finite Square Well\n",
    "\n",
    ">This is a program that is modelled to visualize the various energy eigenstates of the finite 1D square well potential using Schrodinger's equation.\n",
    " __<p style=\"text-align: left;\"> K Sujith Bhatt, August 2020. </p>__ \n",
    "\n",
    "---\n",
    "---"
   ]
  },
  {
   "cell_type": "markdown",
   "metadata": {},
   "source": [
    "## Importing the packages "
   ]
  },
  {
   "cell_type": "code",
   "execution_count": 1,
   "metadata": {},
   "outputs": [
    {
     "data": {
      "text/plain": [
       "{'divide': 'warn', 'over': 'warn', 'under': 'ignore', 'invalid': 'warn'}"
      ]
     },
     "execution_count": 1,
     "metadata": {},
     "output_type": "execute_result"
    }
   ],
   "source": [
    "import numpy as np\n",
    "import matplotlib.pyplot as plt\n",
    "from scipy.integrate import solve_bvp\n",
    "from scipy.optimize import root_scalar\n",
    "\n",
    "np.seterr(invalid=\"ignore\")"
   ]
  },
  {
   "cell_type": "markdown",
   "metadata": {},
   "source": [
    "## Solving the Schrodinger Equation"
   ]
  },
  {
   "cell_type": "markdown",
   "metadata": {},
   "source": [
    "The external potential $V(x)$ is a piecewise defined function for the square well, with depth $V_0$ and width $a$:\n",
    "$$V(x) = \\begin{cases} 0 & |x| \\leq a/2 \\\\ V_0 & |x| > a/2 \\end{cases} \\, .$$\n",
    "\n",
    "As we wish to pass array values to the position argument, we need to use a recursive definition if `x` is iterable (`abs(x)` returns an array of booleans when `x` is an array, which cannot be used in the `< a/2` inequality)."
   ]
  },
  {
   "cell_type": "code",
   "execution_count": 2,
   "metadata": {},
   "outputs": [],
   "source": [
    "def V(x, V0=50, a=1):\n",
    "    if np.iterable(x):\n",
    "        return np.array([V(xi, V0, a) for xi in x])\n",
    "    elif np.abs(x) < a/2:\n",
    "        return 0\n",
    "    else:\n",
    "        return V0"
   ]
  },
  {
   "cell_type": "markdown",
   "metadata": {},
   "source": [
    "The Schrödinger equation is:\n",
    "$$\\frac{d^2 \\psi}{d x^2} = -\\frac{2 m}{\\hbar} \\left( E - V(x) \\right) \\psi(x) \\, .$$\n",
    "\n",
    "This is an ordinary second-order differential equation, with an unknown parameter $E$. We need to convert into a first-order differential equation to use the numerical methods offered by [`scipy.integrate`](https://docs.scipy.org/doc/scipy/reference/integrate.html), which we achieve by defining a vector $\\mathbf{y}(x) = (y_1(x), y_2(x))$ with $y_1(x) = \\psi(x)$ and $y_2(x) = \\psi'(x)$. Then the above equation can be written:\n",
    "\n",
    "$$\\begin{align*} y_1'(x) &= y_2(x) \\\\ y_2'(x) &= -\\frac{2 m}{\\hbar} \\left( E - V(x) \\right) y_1(x) \\, .\\end{align*}$$\n",
    "\n",
    "In the below, we set $\\hbar = m = 1$ and define functions `fun(x, y, p)` and `bc(ya, yb, p)` which can be used in the boundary-value solver [`scipy.integrate.solve_bvp`](https://docs.scipy.org/doc/scipy/reference/generated/scipy.integrate.solve_bvp.html).\n",
    "\n",
    "___\n",
    "From the docs, the function `fun` represents the:\n",
    "\n",
    "> Right-hand side of the system. The calling signature is `fun(x, y)`, or `fun(x, y, p)` if parameters are present. All arguments are ndarray: `x` with shape `(m,)`, `y` with shape `(n, m)`, meaning that `y[:, i]` corresponds to `x[i]`, and `p` with shape `(k,)`. The return value must be an array with shape (n, m) and with the same layout as y.\n",
    "\n",
    "Here, `x` is the array of positions with first and last elements the boundary of the system, the vector `y` is as defined above, and we'll use the unknown parameter vector `p` to contain the energy eigenvalue (not known a priori). Thus, our dimensions will be $n=2$, $k=1$."
   ]
  },
  {
   "cell_type": "code",
   "execution_count": 3,
   "metadata": {},
   "outputs": [],
   "source": [
    "def fun(x, y, p):\n",
    "    E = p[0]\n",
    "    return np.vstack((y[1], -2*(E - V(x))*y[0]))"
   ]
  },
  {
   "cell_type": "markdown",
   "metadata": {},
   "source": [
    "___\n",
    "The function `bc` is a:\n",
    "> Function evaluating residuals of the boundary conditions. The calling signature is `bc(ya, yb)`, or `bc(ya, yb, p)` if parameters are present. All arguments are ndarray: `ya` and `yb` with shape `(n,)`, and `p` with shape `(k,)`. The return value must be an array with shape `(n + k,)`.\n",
    "\n",
    "We have to return $n+k=3$ residuals, corresponding to the boundary conditions $\\psi(x_a) = 0$, $\\psi(x_b) = 0$, and $\\psi'(x_a) = \\kappa$ where $\\kappa$ is some small number quantifying the derivative of the solution at the boundary. Since the boudary is finite, this must be a small numeric quantity so that the solution can change from 0. The function takes as input the current value of $\\mathbf{y}$ at the boundary, i.e. $$\\mathbf{y}(x_a)=(y_1(x_a), y_2(x_a))$$ and $$\\mathbf{y}(x_b) = (y_1(x_b), y_2(x_b)) \\, ,$$and the parameter vector $\\mathbf{p} = (E,)$.\n",
    "\n",
    "The function then returns the residuals $(y_1(x_a) - 0, y_2(x_b) - 0, y_1'(x_a) - \\kappa)$. This choice of boundary conditions is not unique. For alternatives, see [Schroeder's notes](https://physics.weber.edu/schroeder/quantum/Numerical.pdf) on this problem."
   ]
  },
  {
   "cell_type": "code",
   "execution_count": 4,
   "metadata": {},
   "outputs": [],
   "source": [
    "def bc(ya, yb, p):\n",
    "    return np.array([ya[0], yb[0], ya[1] - 0.001])"
   ]
  },
  {
   "cell_type": "markdown",
   "metadata": {},
   "source": [
    "___\n",
    "We now initialise the 'mesh' upon which `solve_bvp` will use for the numerical integration. Here we choose $x \\in [-1.5a, 1.5a]$, i.e. $x_a = -1.5 a$ and $x_b = 1.5 a$ for a potential width of $a=1$. This is sufficient room for the bound state solutions to decay to zero."
   ]
  },
  {
   "cell_type": "code",
   "execution_count": 5,
   "metadata": {},
   "outputs": [],
   "source": [
    "x = np.linspace(-1.5, 1.5, 11)"
   ]
  },
  {
   "cell_type": "markdown",
   "metadata": {},
   "source": [
    "We also define the initial guess for $\\mathbf{y}(x)$, sampled on the above mesh. This can be done very crudely, by setting the value of $y_1(x) = \\psi(x)$ and $y_2(x) = \\psi'(x)$ to be zero everywhere, except for a non-zero value of the wavefunction at a single point (offset from the origin, to permit even functions of $x$ to be found)."
   ]
  },
  {
   "cell_type": "code",
   "execution_count": 6,
   "metadata": {},
   "outputs": [],
   "source": [
    "y_i = np.zeros((2, x.size))\n",
    "y_i[0,4] = 0.1"
   ]
  },
  {
   "cell_type": "markdown",
   "metadata": {},
   "source": [
    "___\n",
    "Finally, we need to specify the initial guess for the energy. This choice will dictate _which_ energy eigenstate the algorithm converges upon.\n",
    "\n",
    "So that we find a unique solution each time, we should make our best estimate of the energy eigenvalue. We can do this by using the relationship between $k_1 = \\sqrt{2 m E}/\\hbar$ and $k_2 = \\sqrt{2 m (V_0 - E)}/\\hbar$:\n",
    "\n",
    "$$\\begin{align*} k_2 &= k_1 \\tan\\left( \\frac{k_1 a}{2} \\right) \\quad (n\\;\\text{odd}) \\\\ -k_2 &= k_1 \\cot\\left( \\frac{k_1 a}{2} \\right) \\quad (n\\;\\text{even}) \\, .\\end{align*}$$"
   ]
  },
  {
   "cell_type": "code",
   "execution_count": 7,
   "metadata": {},
   "outputs": [
    {
     "name": "stdout",
     "output_type": "stream",
     "text": [
      "[ 3.41357099 13.47572274 29.45230759 48.14346422]\n"
     ]
    }
   ],
   "source": [
    "def fk(E, V0=50, a=1, n=1):     \n",
    "    k1 = np.sqrt(2 * E)                        ## Returns the error in the equality:\n",
    "    k2 = np.sqrt(2 * (V0 - E))                 ## k2 = k1 * tan(k1 * a / 2) for odd n (even parity solutions); or\n",
    "    if n % 2:                                  ## -k2 = k1 * cot(k1 * a / 2) for even n (odd parity solutions),\n",
    "        return k2 - k1 * np.tan(k1 * a / 2)    ## where k1 = sqrt(2 * E) and k2 = sqrt(2 * (V0 - E)) for E < V0.\n",
    "    else:\n",
    "        return k2 + k1 / np.tan(k1 * a / 2)\n",
    "\n",
    "\n",
    "def Eanalytic(V0=50, a=1, pts=100):\n",
    "                                                ##Finds the roots of the fk between 0 and V0 for odd and even n.\n",
    "    Ei = np.linspace(0.0, V0, pts)\n",
    "    roots = []\n",
    "    for n in [1, 2]:\n",
    "        for i in range(pts - 1):\n",
    "            soln = root_scalar(fk, args=(V0, a, n), x0=Ei[i], x1=Ei[i + 1])\n",
    "            if soln.converged and np.around(soln.root, 9) not in roots:\n",
    "                roots.append(np.around(soln.root, 9))\n",
    "    return np.sort(roots)\n",
    "\n",
    "\n",
    "Elist = Eanalytic()\n",
    "print(Elist)"
   ]
  },
  {
   "cell_type": "markdown",
   "metadata": {},
   "source": [
    "___\n",
    "Equipped with (very good) estimates of the energy eigenvalues, we proceed to solve the differential equation using `solve_bvp` for each energy eigenstate. The estimates are  "
   ]
  },
  {
   "cell_type": "code",
   "execution_count": 8,
   "metadata": {},
   "outputs": [
    {
     "name": "stdout",
     "output_type": "stream",
     "text": [
      "n = 1: success = False; niter = 34\n",
      "n = 2: success = False; niter = 36\n",
      "n = 3: success = False; niter = 36\n",
      "n = 4: success = False; niter = 271\n"
     ]
    }
   ],
   "source": [
    "solns = [solve_bvp(fun, bc, x, y_i, p=[Ei]) for Ei in Elist]\n",
    "for i, soln in enumerate(solns):\n",
    "    print(f\"n = {i+1}:\", \"success = {success}; niter = {niter}\".format(**soln))"
   ]
  },
  {
   "cell_type": "markdown",
   "metadata": {},
   "source": [
    "How do the eigenvalues found using `solve_bvp` compare to the analytic estimates?"
   ]
  },
  {
   "cell_type": "code",
   "execution_count": 9,
   "metadata": {},
   "outputs": [
    {
     "data": {
      "text/plain": [
       "array([6.59267306e-05, 3.48799999e-04, 2.47946173e-03, 1.17498946e-01])"
      ]
     },
     "execution_count": 9,
     "metadata": {},
     "output_type": "execute_result"
    }
   ],
   "source": [
    "np.array([soln.p[0] - Ei for soln, Ei in zip(solns, Elist)])"
   ]
  },
  {
   "cell_type": "markdown",
   "metadata": {},
   "source": [
    "## Visualising the Eigenstates "
   ]
  },
  {
   "cell_type": "code",
   "execution_count": 10,
   "metadata": {},
   "outputs": [
    {
     "data": {
      "image/png": "[encoded data removed]",
      "text/plain": [
       "<Figure size 432x288 with 1 Axes>"
      ]
     },
     "metadata": {
      "needs_background": "light"
     },
     "output_type": "display_data"
    }
   ],
   "source": [
    "x_plot = np.linspace(x.min(), x.max(), 100)\n",
    "plt.plot(x_plot, V(x_plot), drawstyle='steps-mid', c='k', alpha=0.5)\n",
    "for soln in solns:\n",
    "    y_plot = soln.sol(x_plot)[0]\n",
    "    l = plt.plot(x_plot, 4 * y_plot / y_plot.max() + soln.p[0])\n",
    "    plt.axhline(soln.p[0], xmin=0.25, xmax=0.75, ls='--', c=l[0].get_color())\n",
    "plt.axis(xmin=-1, xmax=1)\n",
    "plt.xlabel(r'$x$')\n",
    "plt.ylabel(r'$\\psi(x)$')\n",
    "plt.show()"
   ]
  },
  {
   "cell_type": "markdown",
   "metadata": {},
   "source": [
    "### The above graph is the plot of '$\\psi(x)$' v/s '$x$'"
   ]
  },
  {
   "cell_type": "markdown",
   "metadata": {},
   "source": [
    "---\n",
    "## Probability Density"
   ]
  },
  {
   "cell_type": "code",
   "execution_count": 11,
   "metadata": {},
   "outputs": [
    {
     "data": {
      "image/png": "[encoded data removed]",
      "text/plain": [
       "<Figure size 432x288 with 1 Axes>"
      ]
     },
     "metadata": {
      "needs_background": "light"
     },
     "output_type": "display_data"
    }
   ],
   "source": [
    "x_plot = np.linspace(x.min(), x.max(), 100)\n",
    "plt.plot(x_plot, V(x_plot), drawstyle='steps-mid', c='k', alpha=0.5)\n",
    "for soln in solns:\n",
    "    y_plot = soln.sol(x_plot)[0]\n",
    "    l = plt.plot(x_plot, 8 * y_plot**2 / y_plot.max()**2 + soln.p[0])\n",
    "    plt.axhline(soln.p[0], xmin=0.25, xmax=0.75, ls='--', c=l[0].get_color())\n",
    "plt.axis(xmin=-1, xmax=1)\n",
    "plt.xlabel(r'$x$')\n",
    "plt.ylabel(r'$\\psi(x)$')\n",
    "plt.show()"
   ]
  },
  {
   "cell_type": "markdown",
   "metadata": {},
   "source": [
    "### Graph of '$\\psi(x)^2$' v/s '$x$'"
   ]
  }
 ],
 "metadata": {
  "kernelspec": {
   "display_name": "Python 3",
   "language": "python",
   "name": "python3"
  },
  "language_info": {
   "codemirror_mode": {
    "name": "ipython",
    "version": 3
   },
   "file_extension": ".py",
   "mimetype": "text/x-python",
   "name": "python",
   "nbconvert_exporter": "python",
   "pygments_lexer": "ipython3",
   "version": "3.7.5"
  }
 },
 "nbformat": 4,
 "nbformat_minor": 2
}
